{
 "cells": [
  {
   "cell_type": "code",
   "execution_count": 1,
   "id": "7781b174-46c0-4b9e-a424-e06103f3b2db",
   "metadata": {},
   "outputs": [
    {
     "name": "stdin",
     "output_type": "stream",
     "text": [
      "請輸入正整數： 4\n"
     ]
    }
   ],
   "source": [
    "sum=0\n",
    "n=int(input(\"請輸入正整數：\"))"
   ]
  },
  {
   "cell_type": "code",
   "execution_count": 2,
   "id": "237ac645-76a2-4c0f-aa75-05362800a848",
   "metadata": {},
   "outputs": [],
   "source": [
    "for i in range(1,n+1):\n",
    "    sum+=i"
   ]
  },
  {
   "cell_type": "code",
   "execution_count": 3,
   "id": "7367bcbf-0ec3-4e74-8f1c-e891c5c6c535",
   "metadata": {},
   "outputs": [
    {
     "name": "stdout",
     "output_type": "stream",
     "text": [
      "1到4整數和為10\n"
     ]
    }
   ],
   "source": [
    "print(\"1到%d整數和為%d\"%(n,sum))"
   ]
  }
 ],
 "metadata": {
  "kernelspec": {
   "display_name": "Python [conda env:base] *",
   "language": "python",
   "name": "conda-base-py"
  },
  "language_info": {
   "codemirror_mode": {
    "name": "ipython",
    "version": 3
   },
   "file_extension": ".py",
   "mimetype": "text/x-python",
   "name": "python",
   "nbconvert_exporter": "python",
   "pygments_lexer": "ipython3",
   "version": "3.13.5"
  }
 },
 "nbformat": 4,
 "nbformat_minor": 5
}
