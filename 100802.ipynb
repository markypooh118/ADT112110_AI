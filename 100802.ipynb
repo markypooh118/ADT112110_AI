{
 "cells": [
  {
   "cell_type": "code",
   "execution_count": null,
   "id": "8a7b581d-132e-47a2-b782-46165b9eb8fd",
   "metadata": {},
   "outputs": [],
   "source": [
    "for i in range(1,10):\n",
    "    for j in range (1,10):\n"
   ]
  }
 ],
 "metadata": {
  "kernelspec": {
   "display_name": "",
   "name": ""
  },
  "language_info": {
   "name": ""
  }
 },
 "nbformat": 4,
 "nbformat_minor": 5
}
